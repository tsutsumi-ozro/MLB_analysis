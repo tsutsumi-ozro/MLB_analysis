{
 "cells": [
  {
   "cell_type": "code",
   "execution_count": 17,
   "metadata": {},
   "outputs": [],
   "source": [
    "import pandas as pd\n",
    "import polars as pl\n",
    "import plotly.graph_objects as go\n",
    "import plotly.express as px\n",
    "import numpy as np\n",
    "import matplotlib.pyplot as plt\n",
    "import seaborn as sns\n",
    "\n",
    "from src.visualization import Plotter"
   ]
  },
  {
   "cell_type": "code",
   "execution_count": 18,
   "metadata": {},
   "outputs": [],
   "source": [
    "df = pd.read_csv('../data/Yoshida_Masataka.csv')"
   ]
  },
  {
   "cell_type": "code",
   "execution_count": 19,
   "metadata": {},
   "outputs": [
    {
     "data": {
      "application/vnd.plotly.v1+json": {
       "config": {
        "plotlyServerURL": "https://plot.ly"
       },
       "data": [
        {
         "customdata": [
          [
           669456,
           "Slider"
          ],
          [
           608371,
           "4-Seam Fastball"
          ],
          [
           663986,
           "4-Seam Fastball"
          ],
          [
           605397,
           "4-Seam Fastball"
          ],
          [
           669438,
           "Curveball"
          ],
          [
           621244,
           "4-Seam Fastball"
          ],
          [
           664747,
           "Slider"
          ],
          [
           656222,
           "4-Seam Fastball"
          ],
          [
           607192,
           "Curveball"
          ],
          [
           671106,
           "4-Seam Fastball"
          ],
          [
           622491,
           "4-Seam Fastball"
          ],
          [
           542881,
           "Sinker"
          ],
          [
           425794,
           "Sinker"
          ],
          [
           669060,
           "Sinker"
          ],
          [
           670950,
           "4-Seam Fastball"
          ]
         ],
         "hovertemplate": "<b>%{hovertext}</b><br><br>events=double<br>norm_hc_x=%{x}<br>norm_hc_y=%{y}<br>pitcher=%{customdata[0]}<br>pitch_name=%{customdata[1]}<extra></extra>",
         "hovertext": [
          "double",
          "double",
          "double",
          "double",
          "double",
          "double",
          "double",
          "double",
          "double",
          "double",
          "double",
          "double",
          "double",
          "double",
          "double"
         ],
         "legendgroup": "double",
         "marker": {
          "color": "#636efa",
          "symbol": "circle"
         },
         "mode": "markers",
         "name": "double",
         "orientation": "v",
         "showlegend": true,
         "type": "scatter",
         "x": [
          10.134599999999999,
          -25.5651,
          44.93513999999999,
          69.76872,
          61.69913999999999,
          -26.723340000000004,
          -35.36442,
          -45.7581,
          -50.38344000000001,
          -25.229820000000004,
          72.10806000000001,
          20.88642000000001,
          61.63056000000001,
          -37.50564,
          -58.971180000000004
         ],
         "xaxis": "x",
         "y": [
          113.24082000000001,
          104.6988,
          37.13226000000002,
          76.64196000000001,
          60.54852000000001,
          103.15194000000001,
          97.2312,
          57.15762,
          55.05450000000001,
          92.86494,
          86.60130000000001,
          109.91088,
          57.203340000000004,
          100.6221,
          58.99404000000001
         ],
         "yaxis": "y"
        },
        {
         "customdata": [
          [
           642585,
           "4-Seam Fastball"
          ],
          [
           670280,
           "4-Seam Fastball"
          ],
          [
           666201,
           "Changeup"
          ],
          [
           672710,
           "4-Seam Fastball"
          ]
         ],
         "hovertemplate": "<b>%{hovertext}</b><br><br>events=field_error<br>norm_hc_x=%{x}<br>norm_hc_y=%{y}<br>pitcher=%{customdata[0]}<br>pitch_name=%{customdata[1]}<extra></extra>",
         "hovertext": [
          "field_error",
          "field_error",
          "field_error",
          "field_error"
         ],
         "legendgroup": "field_error",
         "marker": {
          "color": "#EF553B",
          "symbol": "circle"
         },
         "mode": "markers",
         "name": "field_error",
         "orientation": "v",
         "showlegend": true,
         "type": "scatter",
         "x": [
          -46.261020000000016,
          30.403799999999993,
          -15.89532,
          -9.707879999999996
         ],
         "xaxis": "x",
         "y": [
          55.70220000000001,
          25.94610000000001,
          22.53234000000002,
          35.32632000000001
         ],
         "yaxis": "y"
        },
        {
         "customdata": [
          [
           669212,
           "Changeup"
          ],
          [
           579328,
           "4-Seam Fastball"
          ],
          [
           669456,
           "4-Seam Fastball"
          ],
          [
           675540,
           "4-Seam Fastball"
          ],
          [
           680704,
           "4-Seam Fastball"
          ],
          [
           641835,
           "Sinker"
          ],
          [
           621244,
           "4-Seam Fastball"
          ],
          [
           669456,
           "4-Seam Fastball"
          ],
          [
           675540,
           "4-Seam Fastball"
          ],
          [
           554430,
           "Curveball"
          ],
          [
           666201,
           "Slider"
          ],
          [
           571945,
           "Sinker"
          ],
          [
           571927,
           "Sinker"
          ],
          [
           425794,
           "Cutter"
          ],
          [
           543521,
           "Sweeper"
          ],
          [
           669276,
           "Slider"
          ],
          [
           450203,
           "4-Seam Fastball"
          ],
          [
           666201,
           "4-Seam Fastball"
          ],
          [
           664849,
           "Slider"
          ],
          [
           621345,
           "Cutter"
          ],
          [
           592836,
           "4-Seam Fastball"
          ],
          [
           621381,
           "Sinker"
          ],
          [
           554430,
           "Curveball"
          ],
          [
           642397,
           "Slider"
          ],
          [
           647315,
           "Sinker"
          ],
          [
           450203,
           "4-Seam Fastball"
          ],
          [
           669456,
           "4-Seam Fastball"
          ],
          [
           606303,
           "4-Seam Fastball"
          ],
          [
           543056,
           "Slider"
          ],
          [
           641302,
           "4-Seam Fastball"
          ],
          [
           656716,
           "Other"
          ],
          [
           656605,
           "Changeup"
          ],
          [
           656605,
           "Cutter"
          ],
          [
           672710,
           "Slider"
          ],
          [
           672710,
           "Curveball"
          ],
          [
           670912,
           "Curveball"
          ],
          [
           670912,
           "Slider"
          ],
          [
           670059,
           "Sinker"
          ],
          [
           608344,
           "4-Seam Fastball"
          ],
          [
           608344,
           "Sinker"
          ],
          [
           665152,
           "Changeup"
          ],
          [
           543056,
           "Sweeper"
          ],
          [
           665152,
           "Cutter"
          ],
          [
           502043,
           "Changeup"
          ],
          [
           664126,
           "4-Seam Fastball"
          ],
          [
           676596,
           "Curveball"
          ],
          [
           657044,
           "4-Seam Fastball"
          ],
          [
           663556,
           "4-Seam Fastball"
          ],
          [
           608723,
           "4-Seam Fastball"
          ],
          [
           669203,
           "Sinker"
          ],
          [
           650893,
           "4-Seam Fastball"
          ],
          [
           642547,
           "4-Seam Fastball"
          ],
          [
           660896,
           "Slider"
          ],
          [
           628317,
           "Split-Finger"
          ],
          [
           660896,
           "Changeup"
          ],
          [
           666974,
           "Sinker"
          ],
          [
           543243,
           "Changeup"
          ],
          [
           661395,
           "Split-Finger"
          ],
          [
           543243,
           "4-Seam Fastball"
          ],
          [
           573204,
           "4-Seam Fastball"
          ],
          [
           656353,
           "Sweeper"
          ],
          [
           608032,
           "4-Seam Fastball"
          ],
          [
           650671,
           "Slider"
          ],
          [
           672282,
           "Slider"
          ],
          [
           543243,
           "Cutter"
          ],
          [
           571945,
           "4-Seam Fastball"
          ],
          [
           641835,
           "Sinker"
          ],
          [
           656288,
           "4-Seam Fastball"
          ],
          [
           642545,
           "Slider"
          ],
          [
           681217,
           "4-Seam Fastball"
          ],
          [
           656288,
           "Slider"
          ],
          [
           656288,
           "4-Seam Fastball"
          ],
          [
           592094,
           "4-Seam Fastball"
          ],
          [
           606965,
           "4-Seam Fastball"
          ],
          [
           542881,
           "Cutter"
          ],
          [
           614179,
           "Sinker"
          ],
          [
           694297,
           "4-Seam Fastball"
          ],
          [
           663556,
           "Slider"
          ],
          [
           671737,
           "Cutter"
          ],
          [
           607192,
           "Slider"
          ],
          [
           674072,
           "4-Seam Fastball"
          ],
          [
           571945,
           "4-Seam Fastball"
          ],
          [
           621363,
           "Slider"
          ],
          [
           665001,
           "Sinker"
          ],
          [
           607192,
           "Slider"
          ],
          [
           594902,
           "Cutter"
          ],
          [
           596133,
           "Changeup"
          ],
          [
           668881,
           "4-Seam Fastball"
          ],
          [
           518617,
           "4-Seam Fastball"
          ],
          [
           621051,
           "4-Seam Fastball"
          ],
          [
           668881,
           "4-Seam Fastball"
          ],
          [
           656529,
           "4-Seam Fastball"
          ],
          [
           605483,
           "4-Seam Fastball"
          ],
          [
           623149,
           "Sweeper"
          ],
          [
           657612,
           "Sinker"
          ],
          [
           642100,
           "Sinker"
          ],
          [
           622491,
           "Sinker"
          ],
          [
           623167,
           "Cutter"
          ],
          [
           672730,
           "Slider"
          ],
          [
           666374,
           "Slider"
          ],
          [
           641703,
           "4-Seam Fastball"
          ],
          [
           676680,
           "Sinker"
          ]
         ],
         "hovertemplate": "<b>%{hovertext}</b><br><br>events=field_out<br>norm_hc_x=%{x}<br>norm_hc_y=%{y}<br>pitcher=%{customdata[0]}<br>pitch_name=%{customdata[1]}<extra></extra>",
         "hovertext": [
          "field_out",
          "field_out",
          "field_out",
          "field_out",
          "field_out",
          "field_out",
          "field_out",
          "field_out",
          "field_out",
          "field_out",
          "field_out",
          "field_out",
          "field_out",
          "field_out",
          "field_out",
          "field_out",
          "field_out",
          "field_out",
          "field_out",
          "field_out",
          "field_out",
          "field_out",
          "field_out",
          "field_out",
          "field_out",
          "field_out",
          "field_out",
          "field_out",
          "field_out",
          "field_out",
          "field_out",
          "field_out",
          "field_out",
          "field_out",
          "field_out",
          "field_out",
          "field_out",
          "field_out",
          "field_out",
          "field_out",
          "field_out",
          "field_out",
          "field_out",
          "field_out",
          "field_out",
          "field_out",
          "field_out",
          "field_out",
          "field_out",
          "field_out",
          "field_out",
          "field_out",
          "field_out",
          "field_out",
          "field_out",
          "field_out",
          "field_out",
          "field_out",
          "field_out",
          "field_out",
          "field_out",
          "field_out",
          "field_out",
          "field_out",
          "field_out",
          "field_out",
          "field_out",
          "field_out",
          "field_out",
          "field_out",
          "field_out",
          "field_out",
          "field_out",
          "field_out",
          "field_out",
          "field_out",
          "field_out",
          "field_out",
          "field_out",
          "field_out",
          "field_out",
          "field_out",
          "field_out",
          "field_out",
          "field_out",
          "field_out",
          "field_out",
          "field_out",
          "field_out",
          "field_out",
          "field_out",
          "field_out",
          "field_out",
          "field_out",
          "field_out",
          "field_out",
          "field_out",
          "field_out",
          "field_out",
          "field_out",
          "field_out",
          "field_out"
         ],
         "legendgroup": "field_out",
         "marker": {
          "color": "#00cc96",
          "symbol": "circle"
         },
         "mode": "markers",
         "name": "field_out",
         "orientation": "v",
         "showlegend": true,
         "type": "scatter",
         "x": [
          -9.616440000000004,
          20.467320000000004,
          3.733799999999994,
          -8.93064,
          -44.630340000000004,
          -6.614160000000005,
          17.3736,
          -8.648700000000007,
          18.143219999999992,
          21.496019999999994,
          14.721840000000006,
          20.26157999999999,
          -17.07642,
          44.919900000000005,
          -17.244059999999998,
          21.541739999999997,
          -11.102340000000007,
          21.236939999999997,
          14.333219999999992,
          -7.970520000000007,
          -11.582400000000003,
          1.8897600000000032,
          -7.581900000000003,
          -1.2039599999999988,
          4.739639999999989,
          -11.010900000000003,
          -8.260080000000004,
          -39.54018,
          18.082260000000005,
          3.7871399999999884,
          18.067019999999996,
          25.229820000000004,
          11.826239999999997,
          19.69007999999999,
          8.08482,
          25.74798000000001,
          3.8176200000000042,
          25.496519999999993,
          -11.742419999999997,
          12.245340000000006,
          21.22932,
          16.50492000000001,
          16.459200000000006,
          22.242780000000007,
          3.2156399999999885,
          -35.17392,
          -9.982200000000008,
          -0.5029199999999975,
          20.017739999999996,
          18.143219999999992,
          -48.668940000000006,
          16.50492000000001,
          -38.961059999999996,
          41.925239999999995,
          13.159739999999998,
          18.463260000000005,
          -52.31892,
          -10.972800000000005,
          20.619719999999994,
          7.9857600000000035,
          29.98470000000001,
          -3.649980000000005,
          14.85899999999999,
          13.502639999999989,
          -4.008120000000004,
          -21.564600000000002,
          -24.010620000000003,
          -57.40908000000001,
          27.218639999999986,
          -51.21402000000001,
          -54.78018,
          -8.27532,
          -2.3545800000000026,
          26.42616,
          17.106900000000003,
          -14.325599999999998,
          15.697200000000008,
          -10.07364,
          -34.800540000000005,
          24.117299999999993,
          1.3792200000000019,
          16.398239999999998,
          20.64257999999999,
          12.931139999999989,
          7.086599999999998,
          20.558760000000007,
          8.08482,
          -30.236160000000005,
          -51.42738000000001,
          -27.828239999999997,
          -24.52878,
          11.521439999999993,
          11.391900000000003,
          -13.045440000000005,
          6.271260000000003,
          17.663159999999994,
          11.186159999999996,
          -9.654540000000003,
          29.748480000000008,
          -51.79314000000001,
          -5.753099999999998,
          6.743700000000007
         ],
         "xaxis": "x",
         "y": [
          61.12002000000001,
          36.095940000000006,
          11.506200000000018,
          38.039040000000014,
          86.99754000000003,
          38.039040000000014,
          36.48456000000002,
          41.36136,
          25.24506000000002,
          24.604980000000015,
          104.28732000000002,
          39.33444000000001,
          35.16630000000001,
          73.63968000000001,
          24.88692,
          22.12086,
          31.50870000000002,
          26.791919999999998,
          42.12336,
          34.62528,
          55.47360000000001,
          12.99210000000001,
          31.51632000000001,
          40.91940000000002,
          5.920740000000008,
          24.02586,
          40.59174000000001,
          71.58228000000001,
          34.78530000000001,
          102.93858000000002,
          15.963900000000013,
          27.759660000000007,
          40.050720000000005,
          26.791919999999998,
          27.569160000000007,
          26.875740000000008,
          26.220419999999997,
          22.143720000000002,
          16.55064,
          12.67206000000002,
          116.26596000000002,
          20.04060000000001,
          34.33572,
          34.38906000000002,
          18.082260000000016,
          23.080980000000018,
          41.59758000000001,
          9.349740000000008,
          28.20924000000001,
          17.495520000000006,
          56.71566000000001,
          13.060680000000012,
          80.36814000000001,
          97.55124,
          26.830020000000008,
          35.55492,
          62.84976000000001,
          27.79014,
          36.263580000000005,
          11.506200000000018,
          87.23376,
          11.567160000000007,
          37.01796000000001,
          36.095940000000006,
          81.3816,
          38.168580000000006,
          38.97630000000001,
          81.94548000000002,
          30.099,
          47.48784000000002,
          72.96912,
          103.18242000000004,
          28.735020000000006,
          23.271480000000018,
          37.680900000000015,
          27.226260000000014,
          95.76816000000002,
          64.69380000000001,
          90.53322000000001,
          28.917900000000014,
          9.24306000000002,
          39.33444000000001,
          37.01796000000001,
          33.16224000000001,
          96.00438000000001,
          39.19728,
          35.32632000000001,
          73.60920000000002,
          72.96912,
          8.702040000000013,
          80.14716000000001,
          19.034760000000016,
          42.915840000000024,
          95.69958000000001,
          32.92602000000001,
          29.344620000000017,
          38.420040000000014,
          24.97074000000001,
          24.46782000000001,
          81.01584000000001,
          42.451020000000014,
          5.3644800000000155
         ],
         "yaxis": "y"
        },
        {
         "customdata": [
          [
           643361,
           "4-Seam Fastball"
          ]
         ],
         "hovertemplate": "<b>%{hovertext}</b><br><br>events=fielders_choice_out<br>norm_hc_x=%{x}<br>norm_hc_y=%{y}<br>pitcher=%{customdata[0]}<br>pitch_name=%{customdata[1]}<extra></extra>",
         "hovertext": [
          "fielders_choice_out"
         ],
         "legendgroup": "fielders_choice_out",
         "marker": {
          "color": "#ab63fa",
          "symbol": "circle"
         },
         "mode": "markers",
         "name": "fielders_choice_out",
         "orientation": "v",
         "showlegend": true,
         "type": "scatter",
         "x": [
          23.4696
         ],
         "xaxis": "x",
         "y": [
          31.668720000000004
         ],
         "yaxis": "y"
        },
        {
         "customdata": [
          [
           605397,
           "Cutter"
          ],
          [
           642585,
           "4-Seam Fastball"
          ]
         ],
         "hovertemplate": "<b>%{hovertext}</b><br><br>events=force_out<br>norm_hc_x=%{x}<br>norm_hc_y=%{y}<br>pitcher=%{customdata[0]}<br>pitch_name=%{customdata[1]}<extra></extra>",
         "hovertext": [
          "force_out",
          "force_out"
         ],
         "legendgroup": "force_out",
         "marker": {
          "color": "#FFA15A",
          "symbol": "circle"
         },
         "mode": "markers",
         "name": "force_out",
         "orientation": "v",
         "showlegend": true,
         "type": "scatter",
         "x": [
          12.199620000000005,
          -4.290059999999997
         ],
         "xaxis": "x",
         "y": [
          30.906720000000004,
          35.32632000000001
         ],
         "yaxis": "y"
        },
        {
         "customdata": [
          [
           664076,
           "Sinker"
          ],
          [
           542881,
           "Cutter"
          ],
          [
           680694,
           "4-Seam Fastball"
          ],
          [
           519043,
           "4-Seam Fastball"
          ],
          [
           621249,
           "Cutter"
          ],
          [
           663556,
           "Slider"
          ],
          [
           596133,
           "Changeup"
          ],
          [
           605513,
           "Sinker"
          ]
         ],
         "hovertemplate": "<b>%{hovertext}</b><br><br>events=grounded_into_double_play<br>norm_hc_x=%{x}<br>norm_hc_y=%{y}<br>pitcher=%{customdata[0]}<br>pitch_name=%{customdata[1]}<extra></extra>",
         "hovertext": [
          "grounded_into_double_play",
          "grounded_into_double_play",
          "grounded_into_double_play",
          "grounded_into_double_play",
          "grounded_into_double_play",
          "grounded_into_double_play",
          "grounded_into_double_play",
          "grounded_into_double_play"
         ],
         "legendgroup": "grounded_into_double_play",
         "marker": {
          "color": "#19d3f3",
          "symbol": "circle"
         },
         "mode": "markers",
         "name": "grounded_into_double_play",
         "orientation": "v",
         "showlegend": true,
         "type": "scatter",
         "x": [
          22.85238,
          15.537180000000001,
          21.175980000000006,
          14.317980000000006,
          18.28799999999999,
          12.733019999999996,
          -5.661660000000006,
          -3.9471600000000056
         ],
         "xaxis": "x",
         "y": [
          35.80638000000001,
          19.644360000000002,
          32.08020000000002,
          30.43428,
          35.85972,
          30.281880000000008,
          49.69764000000001,
          35.13582000000001
         ],
         "yaxis": "y"
        },
        {
         "customdata": [
          [
           502043,
           "Cutter"
          ],
          [
           607755,
           "Curveball"
          ],
          [
           672282,
           "4-Seam Fastball"
          ]
         ],
         "hovertemplate": "<b>%{hovertext}</b><br><br>events=hit_by_pitch<br>norm_hc_x=%{x}<br>norm_hc_y=%{y}<br>pitcher=%{customdata[0]}<br>pitch_name=%{customdata[1]}<extra></extra>",
         "hovertext": [
          "hit_by_pitch",
          "hit_by_pitch",
          "hit_by_pitch"
         ],
         "legendgroup": "hit_by_pitch",
         "marker": {
          "color": "#FF6692",
          "symbol": "circle"
         },
         "mode": "markers",
         "name": "hit_by_pitch",
         "orientation": "v",
         "showlegend": true,
         "type": "scatter",
         "x": [
          null,
          null,
          null
         ],
         "xaxis": "x",
         "y": [
          null,
          null,
          null
         ],
         "yaxis": "y"
        },
        {
         "customdata": [
          [
           670912,
           "4-Seam Fastball"
          ],
          [
           642770,
           "Sweeper"
          ],
          [
           579328,
           "4-Seam Fastball"
          ],
          [
           456713,
           "Curveball"
          ],
          [
           596133,
           "Cutter"
          ],
          [
           669330,
           "Changeup"
          ],
          [
           592332,
           "4-Seam Fastball"
          ]
         ],
         "hovertemplate": "<b>%{hovertext}</b><br><br>events=home_run<br>norm_hc_x=%{x}<br>norm_hc_y=%{y}<br>pitcher=%{customdata[0]}<br>pitch_name=%{customdata[1]}<extra></extra>",
         "hovertext": [
          "home_run",
          "home_run",
          "home_run",
          "home_run",
          "home_run",
          "home_run",
          "home_run"
         ],
         "legendgroup": "home_run",
         "marker": {
          "color": "#B6E880",
          "symbol": "circle"
         },
         "mode": "markers",
         "name": "home_run",
         "orientation": "v",
         "showlegend": true,
         "type": "scatter",
         "x": [
          -44.72178,
          82.58556000000002,
          30.79242000000001,
          66.47688000000001,
          81.05394,
          23.134320000000002,
          29.291280000000008
         ],
         "xaxis": "x",
         "y": [
          110.97006,
          95.41764,
          116.20500000000001,
          94.28988000000001,
          76.35240000000002,
          124.36602000000002,
          119.23776000000002
         ],
         "yaxis": "y"
        },
        {
         "customdata": [
          [
           669203,
           "Curveball"
          ]
         ],
         "hovertemplate": "<b>%{hovertext}</b><br><br>events=sac_fly<br>norm_hc_x=%{x}<br>norm_hc_y=%{y}<br>pitcher=%{customdata[0]}<br>pitch_name=%{customdata[1]}<extra></extra>",
         "hovertext": [
          "sac_fly"
         ],
         "legendgroup": "sac_fly",
         "marker": {
          "color": "#FF97FF",
          "symbol": "circle"
         },
         "mode": "markers",
         "name": "sac_fly",
         "orientation": "v",
         "showlegend": true,
         "type": "scatter",
         "x": [
          41.02607999999999
         ],
         "xaxis": "x",
         "y": [
          66.14160000000001
         ],
         "yaxis": "y"
        },
        {
         "customdata": [
          [
           605200,
           "Changeup"
          ],
          [
           489119,
           "Slider"
          ],
          [
           571656,
           "4-Seam Fastball"
          ],
          [
           681867,
           "Changeup"
          ],
          [
           605513,
           "4-Seam Fastball"
          ],
          [
           605200,
           "4-Seam Fastball"
          ],
          [
           669456,
           "4-Seam Fastball"
          ],
          [
           663558,
           "4-Seam Fastball"
          ],
          [
           594902,
           "4-Seam Fastball"
          ],
          [
           571927,
           "Sinker"
          ],
          [
           669459,
           "4-Seam Fastball"
          ],
          [
           518876,
           "Cutter"
          ],
          [
           641941,
           "4-Seam Fastball"
          ],
          [
           642207,
           "Changeup"
          ],
          [
           656222,
           "4-Seam Fastball"
          ],
          [
           554430,
           "4-Seam Fastball"
          ],
          [
           665152,
           "4-Seam Fastball"
          ],
          [
           621237,
           "Sinker"
          ],
          [
           592332,
           "4-Seam Fastball"
          ],
          [
           592332,
           "Split-Finger"
          ],
          [
           641329,
           "4-Seam Fastball"
          ],
          [
           669211,
           "4-Seam Fastball"
          ],
          [
           607259,
           "Sinker"
          ],
          [
           608379,
           "Changeup"
          ],
          [
           592836,
           "Split-Finger"
          ],
          [
           542914,
           "4-Seam Fastball"
          ],
          [
           647315,
           "Sinker"
          ],
          [
           621244,
           "Sinker"
          ],
          [
           425794,
           "Curveball"
          ],
          [
           605483,
           "4-Seam Fastball"
          ],
          [
           571901,
           "Sinker"
          ],
          [
           608344,
           "4-Seam Fastball"
          ],
          [
           665152,
           "4-Seam Fastball"
          ],
          [
           665152,
           "4-Seam Fastball"
          ],
          [
           657508,
           "4-Seam Fastball"
          ],
          [
           680694,
           "Curveball"
          ],
          [
           642545,
           "4-Seam Fastball"
          ],
          [
           671737,
           "Curveball"
          ],
          [
           669211,
           "4-Seam Fastball"
          ],
          [
           669456,
           "Changeup"
          ],
          [
           594835,
           "4-Seam Fastball"
          ],
          [
           668676,
           "4-Seam Fastball"
          ],
          [
           671737,
           "4-Seam Fastball"
          ]
         ],
         "hovertemplate": "<b>%{hovertext}</b><br><br>events=single<br>norm_hc_x=%{x}<br>norm_hc_y=%{y}<br>pitcher=%{customdata[0]}<br>pitch_name=%{customdata[1]}<extra></extra>",
         "hovertext": [
          "single",
          "single",
          "single",
          "single",
          "single",
          "single",
          "single",
          "single",
          "single",
          "single",
          "single",
          "single",
          "single",
          "single",
          "single",
          "single",
          "single",
          "single",
          "single",
          "single",
          "single",
          "single",
          "single",
          "single",
          "single",
          "single",
          "single",
          "single",
          "single",
          "single",
          "single",
          "single",
          "single",
          "single",
          "single",
          "single",
          "single",
          "single",
          "single",
          "single",
          "single",
          "single",
          "single"
         ],
         "legendgroup": "single",
         "marker": {
          "color": "#FECB52",
          "symbol": "circle"
         },
         "mode": "markers",
         "name": "single",
         "orientation": "v",
         "showlegend": true,
         "type": "scatter",
         "x": [
          32.08020000000001,
          -6.568440000000003,
          5.920739999999998,
          13.700760000000004,
          -4.213860000000001,
          -24.02586,
          -53.37047999999999,
          -55.610760000000006,
          -12.031980000000006,
          1.905,
          -4.678680000000001,
          39.84498000000001,
          5.768340000000006,
          6.385560000000008,
          -26.15946,
          37.11702,
          -24.36114,
          49.46904000000001,
          -26.403300000000005,
          25.48128000000001,
          64.17563999999999,
          -30.152340000000006,
          -41.666160000000005,
          -17.868900000000004,
          -46.23816000000001,
          -1.9659599999999988,
          -30.594300000000008,
          -7.353300000000004,
          3.459480000000005,
          -30.685739999999996,
          31.76778000000001,
          0.09905999999999654,
          14.036040000000002,
          -59.23788000000001,
          43.609260000000006,
          -32.97174,
          -24.544020000000007,
          51.41213999999999,
          24.338280000000008,
          0.8991599999999944,
          2.186939999999993,
          -39.517320000000005,
          13.281659999999995
         ],
         "xaxis": "x",
         "y": [
          40.523160000000004,
          6.042660000000006,
          72.23760000000001,
          20.048220000000004,
          12.542520000000007,
          37.61994000000001,
          68.71716,
          62.27826000000001,
          78.7908,
          21.366480000000017,
          32.5755,
          55.19928000000001,
          78.34122000000002,
          80.32242000000001,
          29.984700000000018,
          55.65648000000001,
          92.37726,
          68.93814000000002,
          67.09410000000001,
          47.27448000000002,
          61.67628000000001,
          92.96400000000003,
          43.22064,
          73.70064000000002,
          73.76922000000002,
          5.478779999999999,
          67.10172000000001,
          91.58478000000001,
          44.59986,
          77.8383,
          35.745419999999996,
          68.19900000000001,
          74.81316000000001,
          60.52566000000001,
          59.92368000000001,
          69.59346000000002,
          62.95644000000001,
          64.00038,
          76.79436000000001,
          65.67678000000001,
          42.13860000000001,
          72.21474,
          73.92924000000001
         ],
         "yaxis": "y"
        },
        {
         "customdata": [
          [
           675916,
           "Curveball"
          ],
          [
           686747,
           "Slider"
          ],
          [
           664076,
           "Slider"
          ],
          [
           663556,
           "Slider"
          ],
          [
           656605,
           "Cutter"
          ],
          [
           672335,
           "Slider"
          ],
          [
           669203,
           "Cutter"
          ],
          [
           666818,
           "Changeup"
          ],
          [
           642547,
           "Changeup"
          ],
          [
           669330,
           "4-Seam Fastball"
          ],
          [
           642547,
           "Curveball"
          ],
          [
           666818,
           "Changeup"
          ],
          [
           518876,
           "Cutter"
          ],
          [
           671106,
           "Sweeper"
          ],
          [
           489119,
           "4-Seam Fastball"
          ],
          [
           608379,
           "Sinker"
          ],
          [
           450203,
           "Curveball"
          ],
          [
           445926,
           "Cutter"
          ],
          [
           623433,
           "Curveball"
          ],
          [
           669467,
           "4-Seam Fastball"
          ],
          [
           660271,
           "4-Seam Fastball"
          ],
          [
           672282,
           "Slider"
          ],
          [
           605397,
           "Curveball"
          ],
          [
           694297,
           "Changeup"
          ]
         ],
         "hovertemplate": "<b>%{hovertext}</b><br><br>events=strikeout<br>norm_hc_x=%{x}<br>norm_hc_y=%{y}<br>pitcher=%{customdata[0]}<br>pitch_name=%{customdata[1]}<extra></extra>",
         "hovertext": [
          "strikeout",
          "strikeout",
          "strikeout",
          "strikeout",
          "strikeout",
          "strikeout",
          "strikeout",
          "strikeout",
          "strikeout",
          "strikeout",
          "strikeout",
          "strikeout",
          "strikeout",
          "strikeout",
          "strikeout",
          "strikeout",
          "strikeout",
          "strikeout",
          "strikeout",
          "strikeout",
          "strikeout",
          "strikeout",
          "strikeout",
          "strikeout"
         ],
         "legendgroup": "strikeout",
         "marker": {
          "color": "#636efa",
          "symbol": "circle"
         },
         "mode": "markers",
         "name": "strikeout",
         "orientation": "v",
         "showlegend": true,
         "type": "scatter",
         "x": [
          null,
          null,
          null,
          null,
          null,
          null,
          null,
          null,
          null,
          null,
          null,
          null,
          null,
          null,
          null,
          null,
          null,
          null,
          null,
          null,
          null,
          null,
          null,
          null
         ],
         "xaxis": "x",
         "y": [
          null,
          null,
          null,
          null,
          null,
          null,
          null,
          null,
          null,
          null,
          null,
          null,
          null,
          null,
          null,
          null,
          null,
          null,
          null,
          null,
          null,
          null,
          null,
          null
         ],
         "yaxis": "y"
        },
        {
         "customdata": [
          [
           622491,
           "4-Seam Fastball"
          ]
         ],
         "hovertemplate": "<b>%{hovertext}</b><br><br>events=triple<br>norm_hc_x=%{x}<br>norm_hc_y=%{y}<br>pitcher=%{customdata[0]}<br>pitch_name=%{customdata[1]}<extra></extra>",
         "hovertext": [
          "triple"
         ],
         "legendgroup": "triple",
         "marker": {
          "color": "#EF553B",
          "symbol": "circle"
         },
         "mode": "markers",
         "name": "triple",
         "orientation": "v",
         "showlegend": true,
         "type": "scatter",
         "x": [
          2.2859999999999894
         ],
         "xaxis": "x",
         "y": [
          121.60758000000001
         ],
         "yaxis": "y"
        },
        {
         "customdata": [
          [
           672335,
           "4-Seam Fastball"
          ],
          [
           571927,
           "Sinker"
          ],
          [
           592094,
           "Changeup"
          ],
          [
           650893,
           "4-Seam Fastball"
          ],
          [
           682051,
           "Sinker"
          ],
          [
           594835,
           "Changeup"
          ],
          [
           656353,
           "Slider"
          ],
          [
           666214,
           "4-Seam Fastball"
          ],
          [
           682051,
           "Sinker"
          ],
          [
           608379,
           "4-Seam Fastball"
          ],
          [
           686747,
           "Sinker"
          ],
          [
           594902,
           "4-Seam Fastball"
          ],
          [
           554340,
           "Changeup"
          ],
          [
           605513,
           "Changeup"
          ],
          [
           685410,
           "4-Seam Fastball"
          ],
          [
           668676,
           "4-Seam Fastball"
          ],
          [
           642239,
           "Cutter"
          ],
          [
           518876,
           "Cutter"
          ],
          [
           543518,
           "Split-Finger"
          ],
          [
           663556,
           "4-Seam Fastball"
          ],
          [
           543056,
           "Slider"
          ],
          [
           657508,
           "4-Seam Fastball"
          ],
          [
           668881,
           "4-Seam Fastball"
          ]
         ],
         "hovertemplate": "<b>%{hovertext}</b><br><br>events=walk<br>norm_hc_x=%{x}<br>norm_hc_y=%{y}<br>pitcher=%{customdata[0]}<br>pitch_name=%{customdata[1]}<extra></extra>",
         "hovertext": [
          "walk",
          "walk",
          "walk",
          "walk",
          "walk",
          "walk",
          "walk",
          "walk",
          "walk",
          "walk",
          "walk",
          "walk",
          "walk",
          "walk",
          "walk",
          "walk",
          "walk",
          "walk",
          "walk",
          "walk",
          "walk",
          "walk",
          "walk"
         ],
         "legendgroup": "walk",
         "marker": {
          "color": "#00cc96",
          "symbol": "circle"
         },
         "mode": "markers",
         "name": "walk",
         "orientation": "v",
         "showlegend": true,
         "type": "scatter",
         "x": [
          null,
          null,
          null,
          null,
          null,
          null,
          null,
          null,
          null,
          null,
          null,
          null,
          null,
          null,
          null,
          null,
          null,
          null,
          null,
          null,
          null,
          null,
          null
         ],
         "xaxis": "x",
         "y": [
          null,
          null,
          null,
          null,
          null,
          null,
          null,
          null,
          null,
          null,
          null,
          null,
          null,
          null,
          null,
          null,
          null,
          null,
          null,
          null,
          null,
          null,
          null
         ],
         "yaxis": "y"
        },
        {
         "fillcolor": "darkviolet",
         "line": {
          "color": "black"
         },
         "name": "diamond",
         "type": "scatter",
         "x": [
          0,
          -19.2,
          0,
          19.2,
          0
         ],
         "y": [
          0,
          19.2,
          38.4,
          19.2,
          0
         ]
        },
        {
         "fillcolor": "darkviolet",
         "line": {
          "color": "black"
         },
         "name": "line",
         "type": "scatter",
         "x": [
          -100,
          0,
          100
         ],
         "y": [
          100,
          0,
          100
         ]
        }
       ],
       "layout": {
        "autosize": false,
        "height": 600,
        "legend": {
         "title": {
          "text": "events"
         },
         "tracegroupgap": 0
        },
        "margin": {
         "t": 60
        },
        "template": {
         "data": {
          "bar": [
           {
            "error_x": {
             "color": "#2a3f5f"
            },
            "error_y": {
             "color": "#2a3f5f"
            },
            "marker": {
             "line": {
              "color": "#E5ECF6",
              "width": 0.5
             },
             "pattern": {
              "fillmode": "overlay",
              "size": 10,
              "solidity": 0.2
             }
            },
            "type": "bar"
           }
          ],
          "barpolar": [
           {
            "marker": {
             "line": {
              "color": "#E5ECF6",
              "width": 0.5
             },
             "pattern": {
              "fillmode": "overlay",
              "size": 10,
              "solidity": 0.2
             }
            },
            "type": "barpolar"
           }
          ],
          "carpet": [
           {
            "aaxis": {
             "endlinecolor": "#2a3f5f",
             "gridcolor": "white",
             "linecolor": "white",
             "minorgridcolor": "white",
             "startlinecolor": "#2a3f5f"
            },
            "baxis": {
             "endlinecolor": "#2a3f5f",
             "gridcolor": "white",
             "linecolor": "white",
             "minorgridcolor": "white",
             "startlinecolor": "#2a3f5f"
            },
            "type": "carpet"
           }
          ],
          "choropleth": [
           {
            "colorbar": {
             "outlinewidth": 0,
             "ticks": ""
            },
            "type": "choropleth"
           }
          ],
          "contour": [
           {
            "colorbar": {
             "outlinewidth": 0,
             "ticks": ""
            },
            "colorscale": [
             [
              0,
              "#0d0887"
             ],
             [
              0.1111111111111111,
              "#46039f"
             ],
             [
              0.2222222222222222,
              "#7201a8"
             ],
             [
              0.3333333333333333,
              "#9c179e"
             ],
             [
              0.4444444444444444,
              "#bd3786"
             ],
             [
              0.5555555555555556,
              "#d8576b"
             ],
             [
              0.6666666666666666,
              "#ed7953"
             ],
             [
              0.7777777777777778,
              "#fb9f3a"
             ],
             [
              0.8888888888888888,
              "#fdca26"
             ],
             [
              1,
              "#f0f921"
             ]
            ],
            "type": "contour"
           }
          ],
          "contourcarpet": [
           {
            "colorbar": {
             "outlinewidth": 0,
             "ticks": ""
            },
            "type": "contourcarpet"
           }
          ],
          "heatmap": [
           {
            "colorbar": {
             "outlinewidth": 0,
             "ticks": ""
            },
            "colorscale": [
             [
              0,
              "#0d0887"
             ],
             [
              0.1111111111111111,
              "#46039f"
             ],
             [
              0.2222222222222222,
              "#7201a8"
             ],
             [
              0.3333333333333333,
              "#9c179e"
             ],
             [
              0.4444444444444444,
              "#bd3786"
             ],
             [
              0.5555555555555556,
              "#d8576b"
             ],
             [
              0.6666666666666666,
              "#ed7953"
             ],
             [
              0.7777777777777778,
              "#fb9f3a"
             ],
             [
              0.8888888888888888,
              "#fdca26"
             ],
             [
              1,
              "#f0f921"
             ]
            ],
            "type": "heatmap"
           }
          ],
          "heatmapgl": [
           {
            "colorbar": {
             "outlinewidth": 0,
             "ticks": ""
            },
            "colorscale": [
             [
              0,
              "#0d0887"
             ],
             [
              0.1111111111111111,
              "#46039f"
             ],
             [
              0.2222222222222222,
              "#7201a8"
             ],
             [
              0.3333333333333333,
              "#9c179e"
             ],
             [
              0.4444444444444444,
              "#bd3786"
             ],
             [
              0.5555555555555556,
              "#d8576b"
             ],
             [
              0.6666666666666666,
              "#ed7953"
             ],
             [
              0.7777777777777778,
              "#fb9f3a"
             ],
             [
              0.8888888888888888,
              "#fdca26"
             ],
             [
              1,
              "#f0f921"
             ]
            ],
            "type": "heatmapgl"
           }
          ],
          "histogram": [
           {
            "marker": {
             "pattern": {
              "fillmode": "overlay",
              "size": 10,
              "solidity": 0.2
             }
            },
            "type": "histogram"
           }
          ],
          "histogram2d": [
           {
            "colorbar": {
             "outlinewidth": 0,
             "ticks": ""
            },
            "colorscale": [
             [
              0,
              "#0d0887"
             ],
             [
              0.1111111111111111,
              "#46039f"
             ],
             [
              0.2222222222222222,
              "#7201a8"
             ],
             [
              0.3333333333333333,
              "#9c179e"
             ],
             [
              0.4444444444444444,
              "#bd3786"
             ],
             [
              0.5555555555555556,
              "#d8576b"
             ],
             [
              0.6666666666666666,
              "#ed7953"
             ],
             [
              0.7777777777777778,
              "#fb9f3a"
             ],
             [
              0.8888888888888888,
              "#fdca26"
             ],
             [
              1,
              "#f0f921"
             ]
            ],
            "type": "histogram2d"
           }
          ],
          "histogram2dcontour": [
           {
            "colorbar": {
             "outlinewidth": 0,
             "ticks": ""
            },
            "colorscale": [
             [
              0,
              "#0d0887"
             ],
             [
              0.1111111111111111,
              "#46039f"
             ],
             [
              0.2222222222222222,
              "#7201a8"
             ],
             [
              0.3333333333333333,
              "#9c179e"
             ],
             [
              0.4444444444444444,
              "#bd3786"
             ],
             [
              0.5555555555555556,
              "#d8576b"
             ],
             [
              0.6666666666666666,
              "#ed7953"
             ],
             [
              0.7777777777777778,
              "#fb9f3a"
             ],
             [
              0.8888888888888888,
              "#fdca26"
             ],
             [
              1,
              "#f0f921"
             ]
            ],
            "type": "histogram2dcontour"
           }
          ],
          "mesh3d": [
           {
            "colorbar": {
             "outlinewidth": 0,
             "ticks": ""
            },
            "type": "mesh3d"
           }
          ],
          "parcoords": [
           {
            "line": {
             "colorbar": {
              "outlinewidth": 0,
              "ticks": ""
             }
            },
            "type": "parcoords"
           }
          ],
          "pie": [
           {
            "automargin": true,
            "type": "pie"
           }
          ],
          "scatter": [
           {
            "fillpattern": {
             "fillmode": "overlay",
             "size": 10,
             "solidity": 0.2
            },
            "type": "scatter"
           }
          ],
          "scatter3d": [
           {
            "line": {
             "colorbar": {
              "outlinewidth": 0,
              "ticks": ""
             }
            },
            "marker": {
             "colorbar": {
              "outlinewidth": 0,
              "ticks": ""
             }
            },
            "type": "scatter3d"
           }
          ],
          "scattercarpet": [
           {
            "marker": {
             "colorbar": {
              "outlinewidth": 0,
              "ticks": ""
             }
            },
            "type": "scattercarpet"
           }
          ],
          "scattergeo": [
           {
            "marker": {
             "colorbar": {
              "outlinewidth": 0,
              "ticks": ""
             }
            },
            "type": "scattergeo"
           }
          ],
          "scattergl": [
           {
            "marker": {
             "colorbar": {
              "outlinewidth": 0,
              "ticks": ""
             }
            },
            "type": "scattergl"
           }
          ],
          "scattermapbox": [
           {
            "marker": {
             "colorbar": {
              "outlinewidth": 0,
              "ticks": ""
             }
            },
            "type": "scattermapbox"
           }
          ],
          "scatterpolar": [
           {
            "marker": {
             "colorbar": {
              "outlinewidth": 0,
              "ticks": ""
             }
            },
            "type": "scatterpolar"
           }
          ],
          "scatterpolargl": [
           {
            "marker": {
             "colorbar": {
              "outlinewidth": 0,
              "ticks": ""
             }
            },
            "type": "scatterpolargl"
           }
          ],
          "scatterternary": [
           {
            "marker": {
             "colorbar": {
              "outlinewidth": 0,
              "ticks": ""
             }
            },
            "type": "scatterternary"
           }
          ],
          "surface": [
           {
            "colorbar": {
             "outlinewidth": 0,
             "ticks": ""
            },
            "colorscale": [
             [
              0,
              "#0d0887"
             ],
             [
              0.1111111111111111,
              "#46039f"
             ],
             [
              0.2222222222222222,
              "#7201a8"
             ],
             [
              0.3333333333333333,
              "#9c179e"
             ],
             [
              0.4444444444444444,
              "#bd3786"
             ],
             [
              0.5555555555555556,
              "#d8576b"
             ],
             [
              0.6666666666666666,
              "#ed7953"
             ],
             [
              0.7777777777777778,
              "#fb9f3a"
             ],
             [
              0.8888888888888888,
              "#fdca26"
             ],
             [
              1,
              "#f0f921"
             ]
            ],
            "type": "surface"
           }
          ],
          "table": [
           {
            "cells": {
             "fill": {
              "color": "#EBF0F8"
             },
             "line": {
              "color": "white"
             }
            },
            "header": {
             "fill": {
              "color": "#C8D4E3"
             },
             "line": {
              "color": "white"
             }
            },
            "type": "table"
           }
          ]
         },
         "layout": {
          "annotationdefaults": {
           "arrowcolor": "#2a3f5f",
           "arrowhead": 0,
           "arrowwidth": 1
          },
          "autotypenumbers": "strict",
          "coloraxis": {
           "colorbar": {
            "outlinewidth": 0,
            "ticks": ""
           }
          },
          "colorscale": {
           "diverging": [
            [
             0,
             "#8e0152"
            ],
            [
             0.1,
             "#c51b7d"
            ],
            [
             0.2,
             "#de77ae"
            ],
            [
             0.3,
             "#f1b6da"
            ],
            [
             0.4,
             "#fde0ef"
            ],
            [
             0.5,
             "#f7f7f7"
            ],
            [
             0.6,
             "#e6f5d0"
            ],
            [
             0.7,
             "#b8e186"
            ],
            [
             0.8,
             "#7fbc41"
            ],
            [
             0.9,
             "#4d9221"
            ],
            [
             1,
             "#276419"
            ]
           ],
           "sequential": [
            [
             0,
             "#0d0887"
            ],
            [
             0.1111111111111111,
             "#46039f"
            ],
            [
             0.2222222222222222,
             "#7201a8"
            ],
            [
             0.3333333333333333,
             "#9c179e"
            ],
            [
             0.4444444444444444,
             "#bd3786"
            ],
            [
             0.5555555555555556,
             "#d8576b"
            ],
            [
             0.6666666666666666,
             "#ed7953"
            ],
            [
             0.7777777777777778,
             "#fb9f3a"
            ],
            [
             0.8888888888888888,
             "#fdca26"
            ],
            [
             1,
             "#f0f921"
            ]
           ],
           "sequentialminus": [
            [
             0,
             "#0d0887"
            ],
            [
             0.1111111111111111,
             "#46039f"
            ],
            [
             0.2222222222222222,
             "#7201a8"
            ],
            [
             0.3333333333333333,
             "#9c179e"
            ],
            [
             0.4444444444444444,
             "#bd3786"
            ],
            [
             0.5555555555555556,
             "#d8576b"
            ],
            [
             0.6666666666666666,
             "#ed7953"
            ],
            [
             0.7777777777777778,
             "#fb9f3a"
            ],
            [
             0.8888888888888888,
             "#fdca26"
            ],
            [
             1,
             "#f0f921"
            ]
           ]
          },
          "colorway": [
           "#636efa",
           "#EF553B",
           "#00cc96",
           "#ab63fa",
           "#FFA15A",
           "#19d3f3",
           "#FF6692",
           "#B6E880",
           "#FF97FF",
           "#FECB52"
          ],
          "font": {
           "color": "#2a3f5f"
          },
          "geo": {
           "bgcolor": "white",
           "lakecolor": "white",
           "landcolor": "#E5ECF6",
           "showlakes": true,
           "showland": true,
           "subunitcolor": "white"
          },
          "hoverlabel": {
           "align": "left"
          },
          "hovermode": "closest",
          "mapbox": {
           "style": "light"
          },
          "paper_bgcolor": "white",
          "plot_bgcolor": "#E5ECF6",
          "polar": {
           "angularaxis": {
            "gridcolor": "white",
            "linecolor": "white",
            "ticks": ""
           },
           "bgcolor": "#E5ECF6",
           "radialaxis": {
            "gridcolor": "white",
            "linecolor": "white",
            "ticks": ""
           }
          },
          "scene": {
           "xaxis": {
            "backgroundcolor": "#E5ECF6",
            "gridcolor": "white",
            "gridwidth": 2,
            "linecolor": "white",
            "showbackground": true,
            "ticks": "",
            "zerolinecolor": "white"
           },
           "yaxis": {
            "backgroundcolor": "#E5ECF6",
            "gridcolor": "white",
            "gridwidth": 2,
            "linecolor": "white",
            "showbackground": true,
            "ticks": "",
            "zerolinecolor": "white"
           },
           "zaxis": {
            "backgroundcolor": "#E5ECF6",
            "gridcolor": "white",
            "gridwidth": 2,
            "linecolor": "white",
            "showbackground": true,
            "ticks": "",
            "zerolinecolor": "white"
           }
          },
          "shapedefaults": {
           "line": {
            "color": "#2a3f5f"
           }
          },
          "ternary": {
           "aaxis": {
            "gridcolor": "white",
            "linecolor": "white",
            "ticks": ""
           },
           "baxis": {
            "gridcolor": "white",
            "linecolor": "white",
            "ticks": ""
           },
           "bgcolor": "#E5ECF6",
           "caxis": {
            "gridcolor": "white",
            "linecolor": "white",
            "ticks": ""
           }
          },
          "title": {
           "x": 0.05
          },
          "xaxis": {
           "automargin": true,
           "gridcolor": "white",
           "linecolor": "white",
           "ticks": "",
           "title": {
            "standoff": 15
           },
           "zerolinecolor": "white",
           "zerolinewidth": 2
          },
          "yaxis": {
           "automargin": true,
           "gridcolor": "white",
           "linecolor": "white",
           "ticks": "",
           "title": {
            "standoff": 15
           },
           "zerolinecolor": "white",
           "zerolinewidth": 2
          }
         }
        },
        "title": {
         "text": "Masataka Yoshida Batting, Location"
        },
        "width": 800,
        "xaxis": {
         "anchor": "y",
         "domain": [
          0,
          1
         ],
         "dtick": 40,
         "range": [
          -100,
          100
         ],
         "title": {
          "text": "hc_x(m)"
         }
        },
        "yaxis": {
         "anchor": "x",
         "domain": [
          0,
          1
         ],
         "dtick": 40,
         "range": [
          0,
          160
         ],
         "title": {
          "text": "hc_y(m)"
         }
        }
       }
      }
     },
     "metadata": {},
     "output_type": "display_data"
    }
   ],
   "source": [
    "data_plotter = Plotter()\n",
    "data_plotter.plot_ball_direction(df)"
   ]
  },
  {
   "cell_type": "code",
   "execution_count": 20,
   "metadata": {},
   "outputs": [
    {
     "ename": "AttributeError",
     "evalue": "'Plotter' object has no attribute 'plot_events'",
     "output_type": "error",
     "traceback": [
      "\u001b[0;31m---------------------------------------------------------------------------\u001b[0m",
      "\u001b[0;31mAttributeError\u001b[0m                            Traceback (most recent call last)",
      "Cell \u001b[0;32mIn[20], line 1\u001b[0m\n\u001b[0;32m----> 1\u001b[0m data_plotter\u001b[39m.\u001b[39;49mplot_events(df)\n",
      "\u001b[0;31mAttributeError\u001b[0m: 'Plotter' object has no attribute 'plot_events'"
     ]
    }
   ],
   "source": [
    "data_plotter.plot_events(df)"
   ]
  },
  {
   "cell_type": "code",
   "execution_count": 7,
   "metadata": {},
   "outputs": [],
   "source": [
    "events = df['events'].dropna()"
   ]
  },
  {
   "cell_type": "code",
   "execution_count": 15,
   "metadata": {},
   "outputs": [
    {
     "data": {
      "text/plain": [
       "events\n",
       "field_out                    102\n",
       "single                        43\n",
       "strikeout                     24\n",
       "walk                          23\n",
       "double                        15\n",
       "grounded_into_double_play      8\n",
       "home_run                       7\n",
       "field_error                    4\n",
       "hit_by_pitch                   3\n",
       "force_out                      2\n",
       "fielders_choice_out            1\n",
       "triple                         1\n",
       "sac_fly                        1\n",
       "Name: count, dtype: int64"
      ]
     },
     "execution_count": 15,
     "metadata": {},
     "output_type": "execute_result"
    }
   ],
   "source": [
    "events.value_counts()"
   ]
  },
  {
   "cell_type": "code",
   "execution_count": 13,
   "metadata": {},
   "outputs": [
    {
     "data": {
      "application/vnd.plotly.v1+json": {
       "config": {
        "plotlyServerURL": "https://plot.ly"
       },
       "data": [
        {
         "labels": [
          "field_out",
          "single",
          "strikeout",
          "walk",
          "double",
          "grounded_into_double_play",
          "home_run",
          "field_error",
          "hit_by_pitch",
          "force_out",
          "fielders_choice_out",
          "triple",
          "sac_fly"
         ],
         "type": "pie",
         "values": [
          102,
          43,
          24,
          23,
          15,
          8,
          7,
          4,
          3,
          2,
          1,
          1,
          1
         ]
        }
       ],
       "layout": {
        "autosize": false,
        "height": 600,
        "template": {
         "data": {
          "bar": [
           {
            "error_x": {
             "color": "#2a3f5f"
            },
            "error_y": {
             "color": "#2a3f5f"
            },
            "marker": {
             "line": {
              "color": "#E5ECF6",
              "width": 0.5
             },
             "pattern": {
              "fillmode": "overlay",
              "size": 10,
              "solidity": 0.2
             }
            },
            "type": "bar"
           }
          ],
          "barpolar": [
           {
            "marker": {
             "line": {
              "color": "#E5ECF6",
              "width": 0.5
             },
             "pattern": {
              "fillmode": "overlay",
              "size": 10,
              "solidity": 0.2
             }
            },
            "type": "barpolar"
           }
          ],
          "carpet": [
           {
            "aaxis": {
             "endlinecolor": "#2a3f5f",
             "gridcolor": "white",
             "linecolor": "white",
             "minorgridcolor": "white",
             "startlinecolor": "#2a3f5f"
            },
            "baxis": {
             "endlinecolor": "#2a3f5f",
             "gridcolor": "white",
             "linecolor": "white",
             "minorgridcolor": "white",
             "startlinecolor": "#2a3f5f"
            },
            "type": "carpet"
           }
          ],
          "choropleth": [
           {
            "colorbar": {
             "outlinewidth": 0,
             "ticks": ""
            },
            "type": "choropleth"
           }
          ],
          "contour": [
           {
            "colorbar": {
             "outlinewidth": 0,
             "ticks": ""
            },
            "colorscale": [
             [
              0,
              "#0d0887"
             ],
             [
              0.1111111111111111,
              "#46039f"
             ],
             [
              0.2222222222222222,
              "#7201a8"
             ],
             [
              0.3333333333333333,
              "#9c179e"
             ],
             [
              0.4444444444444444,
              "#bd3786"
             ],
             [
              0.5555555555555556,
              "#d8576b"
             ],
             [
              0.6666666666666666,
              "#ed7953"
             ],
             [
              0.7777777777777778,
              "#fb9f3a"
             ],
             [
              0.8888888888888888,
              "#fdca26"
             ],
             [
              1,
              "#f0f921"
             ]
            ],
            "type": "contour"
           }
          ],
          "contourcarpet": [
           {
            "colorbar": {
             "outlinewidth": 0,
             "ticks": ""
            },
            "type": "contourcarpet"
           }
          ],
          "heatmap": [
           {
            "colorbar": {
             "outlinewidth": 0,
             "ticks": ""
            },
            "colorscale": [
             [
              0,
              "#0d0887"
             ],
             [
              0.1111111111111111,
              "#46039f"
             ],
             [
              0.2222222222222222,
              "#7201a8"
             ],
             [
              0.3333333333333333,
              "#9c179e"
             ],
             [
              0.4444444444444444,
              "#bd3786"
             ],
             [
              0.5555555555555556,
              "#d8576b"
             ],
             [
              0.6666666666666666,
              "#ed7953"
             ],
             [
              0.7777777777777778,
              "#fb9f3a"
             ],
             [
              0.8888888888888888,
              "#fdca26"
             ],
             [
              1,
              "#f0f921"
             ]
            ],
            "type": "heatmap"
           }
          ],
          "heatmapgl": [
           {
            "colorbar": {
             "outlinewidth": 0,
             "ticks": ""
            },
            "colorscale": [
             [
              0,
              "#0d0887"
             ],
             [
              0.1111111111111111,
              "#46039f"
             ],
             [
              0.2222222222222222,
              "#7201a8"
             ],
             [
              0.3333333333333333,
              "#9c179e"
             ],
             [
              0.4444444444444444,
              "#bd3786"
             ],
             [
              0.5555555555555556,
              "#d8576b"
             ],
             [
              0.6666666666666666,
              "#ed7953"
             ],
             [
              0.7777777777777778,
              "#fb9f3a"
             ],
             [
              0.8888888888888888,
              "#fdca26"
             ],
             [
              1,
              "#f0f921"
             ]
            ],
            "type": "heatmapgl"
           }
          ],
          "histogram": [
           {
            "marker": {
             "pattern": {
              "fillmode": "overlay",
              "size": 10,
              "solidity": 0.2
             }
            },
            "type": "histogram"
           }
          ],
          "histogram2d": [
           {
            "colorbar": {
             "outlinewidth": 0,
             "ticks": ""
            },
            "colorscale": [
             [
              0,
              "#0d0887"
             ],
             [
              0.1111111111111111,
              "#46039f"
             ],
             [
              0.2222222222222222,
              "#7201a8"
             ],
             [
              0.3333333333333333,
              "#9c179e"
             ],
             [
              0.4444444444444444,
              "#bd3786"
             ],
             [
              0.5555555555555556,
              "#d8576b"
             ],
             [
              0.6666666666666666,
              "#ed7953"
             ],
             [
              0.7777777777777778,
              "#fb9f3a"
             ],
             [
              0.8888888888888888,
              "#fdca26"
             ],
             [
              1,
              "#f0f921"
             ]
            ],
            "type": "histogram2d"
           }
          ],
          "histogram2dcontour": [
           {
            "colorbar": {
             "outlinewidth": 0,
             "ticks": ""
            },
            "colorscale": [
             [
              0,
              "#0d0887"
             ],
             [
              0.1111111111111111,
              "#46039f"
             ],
             [
              0.2222222222222222,
              "#7201a8"
             ],
             [
              0.3333333333333333,
              "#9c179e"
             ],
             [
              0.4444444444444444,
              "#bd3786"
             ],
             [
              0.5555555555555556,
              "#d8576b"
             ],
             [
              0.6666666666666666,
              "#ed7953"
             ],
             [
              0.7777777777777778,
              "#fb9f3a"
             ],
             [
              0.8888888888888888,
              "#fdca26"
             ],
             [
              1,
              "#f0f921"
             ]
            ],
            "type": "histogram2dcontour"
           }
          ],
          "mesh3d": [
           {
            "colorbar": {
             "outlinewidth": 0,
             "ticks": ""
            },
            "type": "mesh3d"
           }
          ],
          "parcoords": [
           {
            "line": {
             "colorbar": {
              "outlinewidth": 0,
              "ticks": ""
             }
            },
            "type": "parcoords"
           }
          ],
          "pie": [
           {
            "automargin": true,
            "type": "pie"
           }
          ],
          "scatter": [
           {
            "fillpattern": {
             "fillmode": "overlay",
             "size": 10,
             "solidity": 0.2
            },
            "type": "scatter"
           }
          ],
          "scatter3d": [
           {
            "line": {
             "colorbar": {
              "outlinewidth": 0,
              "ticks": ""
             }
            },
            "marker": {
             "colorbar": {
              "outlinewidth": 0,
              "ticks": ""
             }
            },
            "type": "scatter3d"
           }
          ],
          "scattercarpet": [
           {
            "marker": {
             "colorbar": {
              "outlinewidth": 0,
              "ticks": ""
             }
            },
            "type": "scattercarpet"
           }
          ],
          "scattergeo": [
           {
            "marker": {
             "colorbar": {
              "outlinewidth": 0,
              "ticks": ""
             }
            },
            "type": "scattergeo"
           }
          ],
          "scattergl": [
           {
            "marker": {
             "colorbar": {
              "outlinewidth": 0,
              "ticks": ""
             }
            },
            "type": "scattergl"
           }
          ],
          "scattermapbox": [
           {
            "marker": {
             "colorbar": {
              "outlinewidth": 0,
              "ticks": ""
             }
            },
            "type": "scattermapbox"
           }
          ],
          "scatterpolar": [
           {
            "marker": {
             "colorbar": {
              "outlinewidth": 0,
              "ticks": ""
             }
            },
            "type": "scatterpolar"
           }
          ],
          "scatterpolargl": [
           {
            "marker": {
             "colorbar": {
              "outlinewidth": 0,
              "ticks": ""
             }
            },
            "type": "scatterpolargl"
           }
          ],
          "scatterternary": [
           {
            "marker": {
             "colorbar": {
              "outlinewidth": 0,
              "ticks": ""
             }
            },
            "type": "scatterternary"
           }
          ],
          "surface": [
           {
            "colorbar": {
             "outlinewidth": 0,
             "ticks": ""
            },
            "colorscale": [
             [
              0,
              "#0d0887"
             ],
             [
              0.1111111111111111,
              "#46039f"
             ],
             [
              0.2222222222222222,
              "#7201a8"
             ],
             [
              0.3333333333333333,
              "#9c179e"
             ],
             [
              0.4444444444444444,
              "#bd3786"
             ],
             [
              0.5555555555555556,
              "#d8576b"
             ],
             [
              0.6666666666666666,
              "#ed7953"
             ],
             [
              0.7777777777777778,
              "#fb9f3a"
             ],
             [
              0.8888888888888888,
              "#fdca26"
             ],
             [
              1,
              "#f0f921"
             ]
            ],
            "type": "surface"
           }
          ],
          "table": [
           {
            "cells": {
             "fill": {
              "color": "#EBF0F8"
             },
             "line": {
              "color": "white"
             }
            },
            "header": {
             "fill": {
              "color": "#C8D4E3"
             },
             "line": {
              "color": "white"
             }
            },
            "type": "table"
           }
          ]
         },
         "layout": {
          "annotationdefaults": {
           "arrowcolor": "#2a3f5f",
           "arrowhead": 0,
           "arrowwidth": 1
          },
          "autotypenumbers": "strict",
          "coloraxis": {
           "colorbar": {
            "outlinewidth": 0,
            "ticks": ""
           }
          },
          "colorscale": {
           "diverging": [
            [
             0,
             "#8e0152"
            ],
            [
             0.1,
             "#c51b7d"
            ],
            [
             0.2,
             "#de77ae"
            ],
            [
             0.3,
             "#f1b6da"
            ],
            [
             0.4,
             "#fde0ef"
            ],
            [
             0.5,
             "#f7f7f7"
            ],
            [
             0.6,
             "#e6f5d0"
            ],
            [
             0.7,
             "#b8e186"
            ],
            [
             0.8,
             "#7fbc41"
            ],
            [
             0.9,
             "#4d9221"
            ],
            [
             1,
             "#276419"
            ]
           ],
           "sequential": [
            [
             0,
             "#0d0887"
            ],
            [
             0.1111111111111111,
             "#46039f"
            ],
            [
             0.2222222222222222,
             "#7201a8"
            ],
            [
             0.3333333333333333,
             "#9c179e"
            ],
            [
             0.4444444444444444,
             "#bd3786"
            ],
            [
             0.5555555555555556,
             "#d8576b"
            ],
            [
             0.6666666666666666,
             "#ed7953"
            ],
            [
             0.7777777777777778,
             "#fb9f3a"
            ],
            [
             0.8888888888888888,
             "#fdca26"
            ],
            [
             1,
             "#f0f921"
            ]
           ],
           "sequentialminus": [
            [
             0,
             "#0d0887"
            ],
            [
             0.1111111111111111,
             "#46039f"
            ],
            [
             0.2222222222222222,
             "#7201a8"
            ],
            [
             0.3333333333333333,
             "#9c179e"
            ],
            [
             0.4444444444444444,
             "#bd3786"
            ],
            [
             0.5555555555555556,
             "#d8576b"
            ],
            [
             0.6666666666666666,
             "#ed7953"
            ],
            [
             0.7777777777777778,
             "#fb9f3a"
            ],
            [
             0.8888888888888888,
             "#fdca26"
            ],
            [
             1,
             "#f0f921"
            ]
           ]
          },
          "colorway": [
           "#636efa",
           "#EF553B",
           "#00cc96",
           "#ab63fa",
           "#FFA15A",
           "#19d3f3",
           "#FF6692",
           "#B6E880",
           "#FF97FF",
           "#FECB52"
          ],
          "font": {
           "color": "#2a3f5f"
          },
          "geo": {
           "bgcolor": "white",
           "lakecolor": "white",
           "landcolor": "#E5ECF6",
           "showlakes": true,
           "showland": true,
           "subunitcolor": "white"
          },
          "hoverlabel": {
           "align": "left"
          },
          "hovermode": "closest",
          "mapbox": {
           "style": "light"
          },
          "paper_bgcolor": "white",
          "plot_bgcolor": "#E5ECF6",
          "polar": {
           "angularaxis": {
            "gridcolor": "white",
            "linecolor": "white",
            "ticks": ""
           },
           "bgcolor": "#E5ECF6",
           "radialaxis": {
            "gridcolor": "white",
            "linecolor": "white",
            "ticks": ""
           }
          },
          "scene": {
           "xaxis": {
            "backgroundcolor": "#E5ECF6",
            "gridcolor": "white",
            "gridwidth": 2,
            "linecolor": "white",
            "showbackground": true,
            "ticks": "",
            "zerolinecolor": "white"
           },
           "yaxis": {
            "backgroundcolor": "#E5ECF6",
            "gridcolor": "white",
            "gridwidth": 2,
            "linecolor": "white",
            "showbackground": true,
            "ticks": "",
            "zerolinecolor": "white"
           },
           "zaxis": {
            "backgroundcolor": "#E5ECF6",
            "gridcolor": "white",
            "gridwidth": 2,
            "linecolor": "white",
            "showbackground": true,
            "ticks": "",
            "zerolinecolor": "white"
           }
          },
          "shapedefaults": {
           "line": {
            "color": "#2a3f5f"
           }
          },
          "ternary": {
           "aaxis": {
            "gridcolor": "white",
            "linecolor": "white",
            "ticks": ""
           },
           "baxis": {
            "gridcolor": "white",
            "linecolor": "white",
            "ticks": ""
           },
           "bgcolor": "#E5ECF6",
           "caxis": {
            "gridcolor": "white",
            "linecolor": "white",
            "ticks": ""
           }
          },
          "title": {
           "x": 0.05
          },
          "xaxis": {
           "automargin": true,
           "gridcolor": "white",
           "linecolor": "white",
           "ticks": "",
           "title": {
            "standoff": 15
           },
           "zerolinecolor": "white",
           "zerolinewidth": 2
          },
          "yaxis": {
           "automargin": true,
           "gridcolor": "white",
           "linecolor": "white",
           "ticks": "",
           "title": {
            "standoff": 15
           },
           "zerolinecolor": "white",
           "zerolinewidth": 2
          }
         }
        },
        "title": {
         "text": "Masataka Yoshida Batting, Events"
        },
        "width": 800
       }
      }
     },
     "metadata": {},
     "output_type": "display_data"
    }
   ],
   "source": [
    "fig = go.Figure(data=[go.Pie(labels=events.value_counts().index, values=events.value_counts().values)])\n",
    "fig.update_layout(title='Masataka Yoshida Batting, Events', autosize=False, width=800, height=600)\n",
    "fig.show()"
   ]
  },
  {
   "cell_type": "code",
   "execution_count": null,
   "metadata": {},
   "outputs": [],
   "source": []
  }
 ],
 "metadata": {
  "kernelspec": {
   "display_name": ".venv",
   "language": "python",
   "name": "python3"
  },
  "language_info": {
   "codemirror_mode": {
    "name": "ipython",
    "version": 3
   },
   "file_extension": ".py",
   "mimetype": "text/x-python",
   "name": "python",
   "nbconvert_exporter": "python",
   "pygments_lexer": "ipython3",
   "version": "3.8.13"
  },
  "orig_nbformat": 4
 },
 "nbformat": 4,
 "nbformat_minor": 2
}
